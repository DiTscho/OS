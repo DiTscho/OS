{
 "cells": [
  {
   "cell_type": "code",
   "execution_count": 1,
   "metadata": {},
   "outputs": [],
   "source": [
    "from OS import *"
   ]
  },
  {
   "cell_type": "code",
   "execution_count": 2,
   "metadata": {},
   "outputs": [],
   "source": [
    "path= Path(\"data/\")"
   ]
  },
  {
   "cell_type": "markdown",
   "metadata": {},
   "source": [
    "# Progressive adding of parameters: Table 2 in paper."
   ]
  },
  {
   "cell_type": "markdown",
   "metadata": {},
   "source": [
    "## Laser power: 800 mW "
   ]
  },
  {
   "cell_type": "code",
   "execution_count": 3,
   "metadata": {},
   "outputs": [],
   "source": [
    "laser_power= 800"
   ]
  },
  {
   "cell_type": "markdown",
   "metadata": {},
   "source": [
    "## Load data"
   ]
  },
  {
   "cell_type": "code",
   "execution_count": 4,
   "metadata": {},
   "outputs": [
    {
     "data": {
      "text/plain": [
       "((5098, 73), (5098,))"
      ]
     },
     "execution_count": 4,
     "metadata": {},
     "output_type": "execute_result"
    }
   ],
   "source": [
    "X,y= load_data(path, laser_power=\"pooled\") \n",
    "X.shape, y.shape"
   ]
  },
  {
   "cell_type": "code",
   "execution_count": 5,
   "metadata": {},
   "outputs": [
    {
     "data": {
      "text/plain": [
       "Index(['cr', 'cA_px', 'maxrot_stretch', 'maxrot_relax', 'EOS_LaRel',\n",
       "       'EOE_LaRel', 'Resto_LaRel', 'E_pKV_LaRel', 'eta_pKV_LaRel',\n",
       "       'err_pkV_LaRel', 'E_peKV_LaRel', 'E2_peKV_LaRel', 'eta_peKV_LaRel',\n",
       "       'err_peKV_LaRel', 'E_aKV_LaRel', 'eta_aKV_LaRel', 'Act_aKV_LaRel',\n",
       "       'err_aKV_LaRel', 'E_aeKV_LaRel', 'E2_aeKV_LaRel', 'eta_aeKV_LaRel',\n",
       "       'Act_aeKV_LaRel', 'err_aeKV_LaRel', 'EOS_LaRel_2s', 'E_pKV_LaRel_2s',\n",
       "       'eta_pKV_LaRel_2s', 'err_pKV_LaRel_2s', 'E2_pKV_LaRel_2s',\n",
       "       'E_aKV_LaRel_2s', 'eta_aKV_LaRel_2s', 'Act_aKV_LaRel_2s',\n",
       "       'err_aKV_LaRel_2s', 'E_aeKV_LaRel_2s', 'E2_aeKV_LaRel_2s',\n",
       "       'eta_aeKV_LaRel_2s', 'Act_aeKV_LaRel_2s', 'err_aeKV_LaRel_2s',\n",
       "       'EOS_ElRel', 'EOE_ElRel', 'Resto_ElRel', 'E_pKV_ElRel', 'eta_pKV_ElRel',\n",
       "       'err_pKV_ElRel', 'E_peKV_ElRel', 'E2_peKV_ElRel', 'eta_peKV_ElRel',\n",
       "       'err_peKV_ElRel', 'E_aKV_ElRel', 'eta_aKV_ElRel', 'Act_aKV_ElRel',\n",
       "       'err_aKV_ElRel', 'E_aeKV_ElRel', 'E2_aeKV_ElRel', 'eta_aeKV_ElRel',\n",
       "       'Act_aeKV_ElRel', 'err_aeKV_ElRel', 'EOS_ElRel_2s', 'E_pKV_ElRel_2s',\n",
       "       'eta_pKV_ElRel_2s', 'err_pKV_ElRel_2s', 'E_peKV_ElRel_2s',\n",
       "       'E2_peKV_ElRel_2s', 'eta_peKV_ElRel_2s', 'err_peKV_ElRel_2s',\n",
       "       'E_aKV_ElRel_2s', 'eta_aKV_ElRel_2s', 'Act_aKV_ElRel_2s',\n",
       "       'err_aKV_ElRel_2s', 'E_aeKV_ElRel_2s', 'E2_aeKV_ElRel_2s',\n",
       "       'eta_aeKV_ElRel_2s', 'Act_aeKV_ElRel_2s', 'err_aeKV_ElRel_2s'],\n",
       "      dtype='object')"
      ]
     },
     "execution_count": 5,
     "metadata": {},
     "output_type": "execute_result"
    }
   ],
   "source": [
    "X.columns"
   ]
  },
  {
   "cell_type": "markdown",
   "metadata": {},
   "source": [
    "## Cell area and cell radius..."
   ]
  },
  {
   "cell_type": "code",
   "execution_count": 6,
   "metadata": {},
   "outputs": [
    {
     "data": {
      "text/plain": [
       "(5098, 2)"
      ]
     },
     "execution_count": 6,
     "metadata": {},
     "output_type": "execute_result"
    }
   ],
   "source": [
    "df= X[[\"cA_px\", \"cr\"]]\n",
    "df.shape"
   ]
  },
  {
   "cell_type": "code",
   "execution_count": 7,
   "metadata": {},
   "outputs": [
    {
     "name": "stdout",
     "output_type": "stream",
     "text": [
      "0.5553921568627451 0.6136162687886826 0.4829482948294829 [[439 470]\n",
      " [437 694]]\n"
     ]
    }
   ],
   "source": [
    "os= OpticalStretcher(df,y)\n",
    "X_train, X_test, y_train, y_test= os.split_data()\n",
    "y_pred= os.fit_and_predict(X_train, X_test, y_train, y_test)\n",
    "accuracy, sensitivity, specificity, cm= os.get_stats(y_pred, y_test)\n",
    "print(accuracy, sensitivity, specificity, cm)"
   ]
  },
  {
   "cell_type": "markdown",
   "metadata": {},
   "source": [
    "## ... + relative deformation"
   ]
  },
  {
   "cell_type": "code",
   "execution_count": 8,
   "metadata": {},
   "outputs": [
    {
     "data": {
      "text/plain": [
       "(5098, 3)"
      ]
     },
     "execution_count": 8,
     "metadata": {},
     "output_type": "execute_result"
    }
   ],
   "source": [
    "df= X[[\"cA_px\", \"cr\", \"EOS_LaRel_2s\"]]\n",
    "df.shape"
   ]
  },
  {
   "cell_type": "code",
   "execution_count": 9,
   "metadata": {},
   "outputs": [
    {
     "name": "stdout",
     "output_type": "stream",
     "text": [
      "0.5730392156862745 0.6083112290008842 0.5291529152915292 [[481 428]\n",
      " [443 688]]\n"
     ]
    }
   ],
   "source": [
    "os= OpticalStretcher(df,y)\n",
    "X_train, X_test, y_train, y_test= os.split_data()\n",
    "y_pred= os.fit_and_predict(X_train, X_test, y_train, y_test)\n",
    "accuracy, sensitivity, specificity, cm= os.get_stats(y_pred, y_test)\n",
    "print(accuracy, sensitivity, specificity, cm)"
   ]
  },
  {
   "cell_type": "markdown",
   "metadata": {},
   "source": [
    "## ... + relative deformation and elliptic relative deformation"
   ]
  },
  {
   "cell_type": "code",
   "execution_count": 10,
   "metadata": {},
   "outputs": [
    {
     "data": {
      "text/plain": [
       "(5098, 4)"
      ]
     },
     "execution_count": 10,
     "metadata": {},
     "output_type": "execute_result"
    }
   ],
   "source": [
    "df= X[[\"cA_px\", \"cr\", \"EOS_LaRel_2s\", \"EOS_ElRel_2s\"]]\n",
    "df.shape"
   ]
  },
  {
   "cell_type": "code",
   "execution_count": 11,
   "metadata": {},
   "outputs": [
    {
     "name": "stdout",
     "output_type": "stream",
     "text": [
      "0.5931372549019608 0.6480990274093722 0.5247524752475248 [[477 432]\n",
      " [398 733]]\n"
     ]
    }
   ],
   "source": [
    "os= OpticalStretcher(df,y)\n",
    "X_train, X_test, y_train, y_test= os.split_data()\n",
    "y_pred= os.fit_and_predict(X_train, X_test, y_train, y_test)\n",
    "accuracy, sensitivity, specificity, cm= os.get_stats(y_pred, y_test)\n",
    "print(accuracy, sensitivity, specificity, cm)"
   ]
  },
  {
   "cell_type": "markdown",
   "metadata": {},
   "source": [
    "## ... + deformation and elliptic relative deformation and resto"
   ]
  },
  {
   "cell_type": "code",
   "execution_count": 12,
   "metadata": {},
   "outputs": [
    {
     "data": {
      "text/plain": [
       "(5098, 6)"
      ]
     },
     "execution_count": 12,
     "metadata": {},
     "output_type": "execute_result"
    }
   ],
   "source": [
    "df= X[[\"cA_px\", \"cr\", \"EOS_LaRel_2s\", \"EOS_ElRel_2s\", \"Resto_LaRel\", \"Resto_ElRel\"]]\n",
    "df.shape"
   ]
  },
  {
   "cell_type": "code",
   "execution_count": 13,
   "metadata": {},
   "outputs": [
    {
     "name": "stdout",
     "output_type": "stream",
     "text": [
      "0.6220588235294118 0.6799292661361627 0.5500550055005501 [[500 409]\n",
      " [362 769]]\n"
     ]
    }
   ],
   "source": [
    "os= OpticalStretcher(df,y)\n",
    "X_train, X_test, y_train, y_test= os.split_data()\n",
    "y_pred= os.fit_and_predict(X_train, X_test, y_train, y_test)\n",
    "accuracy, sensitivity, specificity, cm= os.get_stats(y_pred, y_test)\n",
    "print(accuracy, sensitivity, specificity, cm)"
   ]
  },
  {
   "cell_type": "code",
   "execution_count": null,
   "metadata": {},
   "outputs": [],
   "source": []
  }
 ],
 "metadata": {
  "kernelspec": {
   "display_name": "Python 3",
   "language": "python",
   "name": "python3"
  },
  "language_info": {
   "codemirror_mode": {
    "name": "ipython",
    "version": 3
   },
   "file_extension": ".py",
   "mimetype": "text/x-python",
   "name": "python",
   "nbconvert_exporter": "python",
   "pygments_lexer": "ipython3",
   "version": "3.7.4"
  }
 },
 "nbformat": 4,
 "nbformat_minor": 2
}
